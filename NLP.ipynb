{
  "nbformat": 4,
  "nbformat_minor": 0,
  "metadata": {
    "colab": {
      "provenance": [],
      "collapsed_sections": [
        "fu3s2W-jzN4v"
      ],
      "mount_file_id": "1zcU3i0TSMjVgIiBVK_qoUVx6i21yZpcF",
      "authorship_tag": "ABX9TyPAKV+EClKTZFaCj6W6L+D1",
      "include_colab_link": true
    },
    "kernelspec": {
      "name": "python3",
      "display_name": "Python 3"
    },
    "language_info": {
      "name": "python"
    }
  },
  "cells": [
    {
      "cell_type": "markdown",
      "metadata": {
        "id": "view-in-github",
        "colab_type": "text"
      },
      "source": [
        "<a href=\"https://colab.research.google.com/github/LeeYuuuan/ChouChou_s_paper_Feb_24/blob/main/NLP.ipynb\" target=\"_parent\"><img src=\"https://colab.research.google.com/assets/colab-badge.svg\" alt=\"Open In Colab\"/></a>"
      ]
    },
    {
      "cell_type": "code",
      "source": [
        "from google.colab import drive"
      ],
      "metadata": {
        "id": "cl71gD79dEIj"
      },
      "execution_count": 86,
      "outputs": []
    },
    {
      "cell_type": "code",
      "source": [
        "import pandas as pd\n",
        "import numpy as np"
      ],
      "metadata": {
        "id": "zwKwNSoZplFl"
      },
      "execution_count": 87,
      "outputs": []
    },
    {
      "cell_type": "code",
      "source": [
        "#test for dierzhou\n",
        "data_type = \"第一周\"\n",
        "dict_path = '/content/drive/MyDrive/Colab Notebooks/Others/TxT ProcessZZ/' + data_type + '.txt'\n",
        "with open(dict_path) as file:\n",
        "    content_raw = file.read()\n",
        "contents = content_raw\n",
        "contents = contents.split(\"???\") # get every part\n",
        "parts = []\n",
        "for content in contents:\n",
        "    element_part = content.split(\"\\n\") # 第二周/n分割\n",
        "        \n",
        "    element_part.pop()\n",
        "    parts.append(element_part)\n"
      ],
      "metadata": {
        "id": "rHtYnCA1jCOQ"
      },
      "execution_count": 72,
      "outputs": []
    },
    {
      "cell_type": "code",
      "source": [
        "parts[0]"
      ],
      "metadata": {
        "colab": {
          "base_uri": "https://localhost:8080/"
        },
        "id": "pNVNdJm-mOwU",
        "outputId": "1be8f993-08a0-47a5-e9c8-c048758e982b"
      },
      "execution_count": 109,
      "outputs": [
        {
          "output_type": "execute_result",
          "data": {
            "text/plain": [
              "['001；诱发；陈述 提名',\n",
              " '002；诱发；提问 补充',\n",
              " '003；诱发；陈述 提问',\n",
              " '004；附和 诱发；陈述 提问 提问',\n",
              " '005；附和 诱发；帮助 提名',\n",
              " '006；诱发；陈述',\n",
              " '007；附和 诱发；反馈 陈述 提问 提名',\n",
              " '008；附和 诱发；重述 陈述',\n",
              " '009；附和 诱发；反馈 评论 陈述',\n",
              " '010；附和 诱发；反馈 陈述',\n",
              " '011；诱发；陈述 提名',\n",
              " '012；诱发；陈述',\n",
              " '013；附和 诱发；反馈 陈述',\n",
              " '014；附和 诱发；反馈 陈述 ',\n",
              " '015；附和 诱发；反馈 陈述 提问 提名',\n",
              " '016；附和 诱发；评论 陈述 提问 补充',\n",
              " '017；附和；反馈',\n",
              " '018；附和 诱发；评论 陈述 提问 ',\n",
              " '019；附和；评论',\n",
              " '020；附和；评论 反馈',\n",
              " '021；附和；反馈']"
            ]
          },
          "metadata": {},
          "execution_count": 109
        }
      ]
    },
    {
      "cell_type": "code",
      "source": [
        "epd = []\n",
        "part_data = []\n",
        "data_element = parts[0][0]"
      ],
      "metadata": {
        "id": "2GmQHu9Pll85"
      },
      "execution_count": 79,
      "outputs": []
    },
    {
      "cell_type": "markdown",
      "source": [
        "# test1"
      ],
      "metadata": {
        "id": "-2iTp9Q9n5OF"
      }
    },
    {
      "cell_type": "code",
      "source": [],
      "metadata": {
        "id": "Ww1dYX5Dn8Hd"
      },
      "execution_count": null,
      "outputs": []
    },
    {
      "cell_type": "markdown",
      "source": [
        "# test\n"
      ],
      "metadata": {
        "id": "IsxoHGKGnBLB"
      }
    },
    {
      "cell_type": "code",
      "source": [
        "data_element"
      ],
      "metadata": {
        "colab": {
          "base_uri": "https://localhost:8080/",
          "height": 35
        },
        "id": "1Gbfhmrul-aP",
        "outputId": "464b8944-3645-4316-c422-6db53608009e"
      },
      "execution_count": 80,
      "outputs": [
        {
          "output_type": "execute_result",
          "data": {
            "text/plain": [
              "'001；诱发；陈述 提名'"
            ],
            "application/vnd.google.colaboratory.intrinsic+json": {
              "type": "string"
            }
          },
          "metadata": {},
          "execution_count": 80
        }
      ]
    },
    {
      "cell_type": "code",
      "source": [
        "number = data_element.split(\"；\")[0]"
      ],
      "metadata": {
        "id": "X03lHvGMl8ZW"
      },
      "execution_count": 81,
      "outputs": []
    },
    {
      "cell_type": "code",
      "source": [
        "number"
      ],
      "metadata": {
        "colab": {
          "base_uri": "https://localhost:8080/",
          "height": 35
        },
        "id": "jJ04oQgVmd-h",
        "outputId": "33e1c8b0-984a-4385-bf34-958b9a828bf8"
      },
      "execution_count": 82,
      "outputs": [
        {
          "output_type": "execute_result",
          "data": {
            "text/plain": [
              "'001'"
            ],
            "application/vnd.google.colaboratory.intrinsic+json": {
              "type": "string"
            }
          },
          "metadata": {},
          "execution_count": 82
        }
      ]
    },
    {
      "cell_type": "code",
      "source": [
        "huamu_type = data_element.split(\"；\")[1].split(\" \")\n",
        "huamu_list = data_element.split(\"；\")[2].split(\" \")"
      ],
      "metadata": {
        "id": "y8yX37wimhn5"
      },
      "execution_count": 83,
      "outputs": []
    },
    {
      "cell_type": "code",
      "source": [
        "huamu_type"
      ],
      "metadata": {
        "colab": {
          "base_uri": "https://localhost:8080/"
        },
        "id": "59Z8v_Uqmljs",
        "outputId": "0f8ed223-8477-4d50-8d31-4ca1f9ab0899"
      },
      "execution_count": 84,
      "outputs": [
        {
          "output_type": "execute_result",
          "data": {
            "text/plain": [
              "['诱发']"
            ]
          },
          "metadata": {},
          "execution_count": 84
        }
      ]
    },
    {
      "cell_type": "code",
      "source": [
        "huamu_list"
      ],
      "metadata": {
        "colab": {
          "base_uri": "https://localhost:8080/"
        },
        "id": "UsflnhD0mm6q",
        "outputId": "63db89ca-5ff6-4328-ef9e-f058579dfbca"
      },
      "execution_count": 85,
      "outputs": [
        {
          "output_type": "execute_result",
          "data": {
            "text/plain": [
              "['陈述', '提名']"
            ]
          },
          "metadata": {},
          "execution_count": 85
        }
      ]
    },
    {
      "cell_type": "code",
      "source": [
        "part_data = [] # 用于保存7个部分的分块数据 [part1, part2, ...]\n",
        "for part in parts:\n",
        "    element_part_data = []\n",
        "    for data_element in part:\n",
        "        number = data_element.split(\"；\")[0]\n",
        "        huamu_type = data_element.split(\"；\")[1].split(\" \")\n",
        "        huamu_list = data_element.split(\"；\")[2].split(\" \")\n",
        "        data_element_dict = {\"No\": number, \"画目类型\": huamu_type, \"画目序列\": huamu_list }\n",
        "        element_part_data.append(data_element_dict)\n",
        "    part_data.append(element_part_data)\n"
      ],
      "metadata": {
        "colab": {
          "base_uri": "https://localhost:8080/",
          "height": 244
        },
        "id": "L2Oqg_aJlIn5",
        "outputId": "4ad398aa-f336-48be-b0a4-62e1c41e36d6"
      },
      "execution_count": 91,
      "outputs": [
        {
          "output_type": "error",
          "ename": "IndexError",
          "evalue": "ignored",
          "traceback": [
            "\u001b[0;31m---------------------------------------------------------------------------\u001b[0m",
            "\u001b[0;31mIndexError\u001b[0m                                Traceback (most recent call last)",
            "\u001b[0;32m<ipython-input-91-148228045978>\u001b[0m in \u001b[0;36m<module>\u001b[0;34m\u001b[0m\n\u001b[1;32m      4\u001b[0m     \u001b[0;32mfor\u001b[0m \u001b[0mdata_element\u001b[0m \u001b[0;32min\u001b[0m \u001b[0mpart\u001b[0m\u001b[0;34m:\u001b[0m\u001b[0;34m\u001b[0m\u001b[0;34m\u001b[0m\u001b[0m\n\u001b[1;32m      5\u001b[0m         \u001b[0mnumber\u001b[0m \u001b[0;34m=\u001b[0m \u001b[0mdata_element\u001b[0m\u001b[0;34m.\u001b[0m\u001b[0msplit\u001b[0m\u001b[0;34m(\u001b[0m\u001b[0;34m\"；\"\u001b[0m\u001b[0;34m)\u001b[0m\u001b[0;34m[\u001b[0m\u001b[0;36m0\u001b[0m\u001b[0;34m]\u001b[0m\u001b[0;34m\u001b[0m\u001b[0;34m\u001b[0m\u001b[0m\n\u001b[0;32m----> 6\u001b[0;31m         \u001b[0mhuamu_type\u001b[0m \u001b[0;34m=\u001b[0m \u001b[0mdata_element\u001b[0m\u001b[0;34m.\u001b[0m\u001b[0msplit\u001b[0m\u001b[0;34m(\u001b[0m\u001b[0;34m\"；\"\u001b[0m\u001b[0;34m)\u001b[0m\u001b[0;34m[\u001b[0m\u001b[0;36m1\u001b[0m\u001b[0;34m]\u001b[0m\u001b[0;34m.\u001b[0m\u001b[0msplit\u001b[0m\u001b[0;34m(\u001b[0m\u001b[0;34m\" \"\u001b[0m\u001b[0;34m)\u001b[0m\u001b[0;34m\u001b[0m\u001b[0;34m\u001b[0m\u001b[0m\n\u001b[0m\u001b[1;32m      7\u001b[0m         \u001b[0mhuamu_list\u001b[0m \u001b[0;34m=\u001b[0m \u001b[0mdata_element\u001b[0m\u001b[0;34m.\u001b[0m\u001b[0msplit\u001b[0m\u001b[0;34m(\u001b[0m\u001b[0;34m\"；\"\u001b[0m\u001b[0;34m)\u001b[0m\u001b[0;34m[\u001b[0m\u001b[0;36m2\u001b[0m\u001b[0;34m]\u001b[0m\u001b[0;34m.\u001b[0m\u001b[0msplit\u001b[0m\u001b[0;34m(\u001b[0m\u001b[0;34m\" \"\u001b[0m\u001b[0;34m)\u001b[0m\u001b[0;34m\u001b[0m\u001b[0;34m\u001b[0m\u001b[0m\n\u001b[1;32m      8\u001b[0m         \u001b[0mdata_element_dict\u001b[0m \u001b[0;34m=\u001b[0m \u001b[0;34m{\u001b[0m\u001b[0;34m\"No\"\u001b[0m\u001b[0;34m:\u001b[0m \u001b[0mnumber\u001b[0m\u001b[0;34m,\u001b[0m \u001b[0;34m\"画目类型\"\u001b[0m\u001b[0;34m:\u001b[0m \u001b[0mhuamu_type\u001b[0m\u001b[0;34m,\u001b[0m \u001b[0;34m\"画目序列\"\u001b[0m\u001b[0;34m:\u001b[0m \u001b[0mhuamu_list\u001b[0m \u001b[0;34m}\u001b[0m\u001b[0;34m\u001b[0m\u001b[0;34m\u001b[0m\u001b[0m\n",
            "\u001b[0;31mIndexError\u001b[0m: list index out of range"
          ]
        }
      ]
    },
    {
      "cell_type": "markdown",
      "source": [
        "#next"
      ],
      "metadata": {
        "id": "dNuz67xLnFUt"
      }
    },
    {
      "cell_type": "code",
      "source": [
        "len(parts[0][0].split(\"；\"))"
      ],
      "metadata": {
        "colab": {
          "base_uri": "https://localhost:8080/"
        },
        "id": "8-j7E6Thk72x",
        "outputId": "592b3f43-fa03-4ea9-e704-6b21be8591fd"
      },
      "execution_count": 125,
      "outputs": [
        {
          "output_type": "execute_result",
          "data": {
            "text/plain": [
              "3"
            ]
          },
          "metadata": {},
          "execution_count": 125
        }
      ]
    },
    {
      "cell_type": "code",
      "source": [],
      "metadata": {
        "id": "a5_KT8xKjNDt"
      },
      "execution_count": null,
      "outputs": []
    },
    {
      "cell_type": "code",
      "source": [
        "def get_dict(data_type):\n",
        "    dict_path = '/content/drive/MyDrive/Colab Notebooks/Others/TxT ProcessZZ/' + data_type + '.txt'\n",
        "    with open(dict_path) as file:\n",
        "        content_raw = file.read()\n",
        "    #with open('/content/drive/MyDrive/Colab Notebooks/Others/TxT ProcessZZ/第二周.txt') as file:\n",
        "        #content_raw = file.read()\n",
        "    # print(content)\n",
        "    if data_type == \"第一周\":\n",
        "        contents = content_raw.replace(\"\\n\", \"\") # replace every \\n\n",
        "        contents = contents.split(\"???\") # get every part\n",
        "        parts = [] # get list of every parts\n",
        "\n",
        "        for content in contents:\n",
        "            element_part = content.split(\"。\") # 第一周按照句号分隔符\n",
        "        \n",
        "            element_part.pop()\n",
        "            parts.append(element_part)\n",
        "    else:\n",
        "        contents = content_raw\n",
        "        contents = contents.split(\"???\") # get every part\n",
        "        \n",
        "        parts = [] # get list of every parts\n",
        "\n",
        "        for content in contents:\n",
        "            element_part = content.split(\"\\n\") # 第一周按照句号分隔符\n",
        "        \n",
        "            element_part.pop()\n",
        "            parts.append(element_part)\n",
        "\n",
        "    part_data = [] # 用于保存7个部分的分块数据 [part1, part2, ...]\n",
        "    \n",
        "    i = -1\n",
        "    j = -1\n",
        "    for part in parts:\n",
        "        i += 1\n",
        "        element_part_data = []\n",
        "        for data_element in part:\n",
        "            j += 1\n",
        "            number = data_element.split(\"；\")[0]\n",
        "            if len(data_element.split(\"；\")) != 3:\n",
        "                print(data_element)\n",
        "                continue\n",
        "            huamu_type = data_element.split(\"；\")[1].split(\" \")\n",
        "\n",
        "            huamu_list = data_element.split(\"；\")[2].split(\" \")\n",
        "            data_element_dict = {\"No\": number, \"画目类型\": huamu_type, \"画目序列\": huamu_list }\n",
        "            element_part_data.append(data_element_dict)\n",
        "        part_data.append(element_part_data)\n",
        "\n",
        "    data_dict_list = [] # 用于保存所有dict 的list: [dict1, dict2, ...]\n",
        "    for p_number, p_data in enumerate(part_data):\n",
        "        for elem in p_data:\n",
        "            elem[\"part\"] = p_number\n",
        "            data_dict_list.append(elem)\n",
        "    \n",
        "    return data_dict_list"
      ],
      "metadata": {
        "id": "gxT_2nKWrdFy"
      },
      "execution_count": 186,
      "outputs": []
    },
    {
      "cell_type": "code",
      "execution_count": 128,
      "metadata": {
        "id": "J_HVl0B59lIn"
      },
      "outputs": [],
      "source": [
        "def get_pandas_df(data_dict_list):\n",
        "    df = pd.DataFrame(data_dict_list)\n",
        "    return df"
      ]
    },
    {
      "cell_type": "code",
      "source": [
        "df = get_pandas_df(get_dict(\"第一周\"))"
      ],
      "metadata": {
        "id": "vyXPgQdFgZ32"
      },
      "execution_count": 209,
      "outputs": []
    },
    {
      "cell_type": "code",
      "source": [
        "df"
      ],
      "metadata": {
        "id": "w6jTu1vhr_s-"
      },
      "execution_count": null,
      "outputs": []
    },
    {
      "cell_type": "code",
      "source": [
        "df.shape"
      ],
      "metadata": {
        "colab": {
          "base_uri": "https://localhost:8080/"
        },
        "id": "0O6JW6lQt0TZ",
        "outputId": "a41f95bd-381c-401f-dcf1-dfc677a519ce"
      },
      "execution_count": 143,
      "outputs": [
        {
          "output_type": "execute_result",
          "data": {
            "text/plain": [
              "(270, 4)"
            ]
          },
          "metadata": {},
          "execution_count": 143
        }
      ]
    },
    {
      "cell_type": "markdown",
      "source": [
        "## 去除冗余的画目"
      ],
      "metadata": {
        "id": "7AtNlQZ33_Vc"
      }
    },
    {
      "cell_type": "code",
      "source": [
        "for i in range(len(df)):\n",
        "    if len(df.at[i, \"画目序列\"]) != len(set(df.at[i, \"画目序列\"])):\n",
        "        print(df.loc[i])"
      ],
      "metadata": {
        "id": "K-8-361Z4Enc"
      },
      "execution_count": 210,
      "outputs": []
    },
    {
      "cell_type": "code",
      "source": [
        "for i in range(len(df)):\n",
        "    if len(df.at[i, \"画目类型\"]) != len(set(df.at[i, \"画目类型\"])):\n",
        "        print(df.loc[i])"
      ],
      "metadata": {
        "id": "r1YCtZqu40pc"
      },
      "execution_count": 211,
      "outputs": []
    },
    {
      "cell_type": "code",
      "source": [],
      "metadata": {
        "colab": {
          "base_uri": "https://localhost:8080/"
        },
        "id": "KCKPEftvBPze",
        "outputId": "bb5e531e-390c-4c9e-d8df-656f8029e8e2"
      },
      "execution_count": 212,
      "outputs": [
        {
          "output_type": "execute_result",
          "data": {
            "text/plain": [
              "291"
            ]
          },
          "metadata": {},
          "execution_count": 212
        }
      ]
    },
    {
      "cell_type": "markdown",
      "source": [
        "## 诱发和附和的次数"
      ],
      "metadata": {
        "id": "YiJbRVVL_0bX"
      }
    },
    {
      "cell_type": "code",
      "source": [
        "def fuhe_youfa_sum(df):\n",
        "    part_i = 0\n",
        "    count_fuhe_and_youfa = [0, 0, 0, 0, 0, 0, 0]\n",
        "    fuhe = [0, 0, 0, 0, 0, 0, 0]\n",
        "    youfa = [0, 0, 0, 0, 0, 0, 0]\n",
        "    for i in range(len(df)):\n",
        "        location_jiemu = df.at[i, \"part\"] \n",
        "        count_fuhe_and_youfa[location_jiemu] += len(df.at[i, \"画目类型\"])\n",
        "        if jug_if_a_exist(\"附和\", df.at[i, \"画目类型\"]):\n",
        "            fuhe[location_jiemu] += 1\n",
        "        if jug_if_a_exist(\"诱发\", df.at[i, \"画目类型\"]):\n",
        "            youfa[location_jiemu] += 1\n",
        "    for i in range(len(fuhe)):\n",
        "        print(f\"第{i}期中附和出现的次数: {fuhe[i]}\")\n",
        "        print(f\"第{i}期中诱发出现的次数: {youfa[i]}\")\n",
        "        print(fuhe[i] + youfa[i] == count_fuhe_and_youfa[i])"
      ],
      "metadata": {
        "id": "JgsXIvCg5qSC"
      },
      "execution_count": 188,
      "outputs": []
    },
    {
      "cell_type": "markdown",
      "source": [
        "# 诱发，附和单独出现的次数"
      ],
      "metadata": {
        "id": "ndONeBw2R1vE"
      }
    },
    {
      "cell_type": "code",
      "source": [
        "def count_y_f(df):\n",
        "    fuhe = [0, 0, 0, 0, 0, 0, 0]\n",
        "    youfa = [0, 0, 0, 0, 0, 0, 0]\n",
        "    sumx = [0, 0, 0, 0, 0, 0, 0]\n",
        "    for i in range(len(df)):\n",
        "        location_jiemu = df.at[i, \"part\"] \n",
        "        if len(df.at[i, \"画目类型\"]) == 1:\n",
        "            if jug_if_a_exist(\"附和\", df.at[i, \"画目类型\"]):\n",
        "                fuhe[location_jiemu] += 1\n",
        "            if jug_if_a_exist(\"诱发\", df.at[i, \"画目类型\"]):\n",
        "                youfa[location_jiemu] += 1\n",
        "        if len(df.at[i, \"画目类型\"]) == 2:\n",
        "            sumx[location_jiemu] += 1\n",
        "    for i in range(len(fuhe)):\n",
        "        print(f\"第{i}期中附和出现的次数: {fuhe[i]}\")\n",
        "        print(f\"第{i}期中诱发出现的次数: {youfa[i]}\")\n",
        "        print(f\"第{i}期中的总出现的次数: {sumx[i]}\")\n",
        "        print()"
      ],
      "metadata": {
        "id": "BUcn_ytjRzKN"
      },
      "execution_count": 189,
      "outputs": []
    },
    {
      "cell_type": "code",
      "source": [
        "count_y_f(df)"
      ],
      "metadata": {
        "colab": {
          "base_uri": "https://localhost:8080/"
        },
        "id": "otFbArUvS63q",
        "outputId": "9fab122d-fd82-404e-b25d-add5a4e50d1d"
      },
      "execution_count": 213,
      "outputs": [
        {
          "output_type": "stream",
          "name": "stdout",
          "text": [
            "第0期中附和出现的次数: 27\n",
            "第0期中诱发出现的次数: 16\n",
            "第0期中的总出现的次数: 12\n",
            "\n",
            "第1期中附和出现的次数: 25\n",
            "第1期中诱发出现的次数: 40\n",
            "第1期中的总出现的次数: 18\n",
            "\n",
            "第2期中附和出现的次数: 13\n",
            "第2期中诱发出现的次数: 14\n",
            "第2期中的总出现的次数: 10\n",
            "\n",
            "第3期中附和出现的次数: 12\n",
            "第3期中诱发出现的次数: 13\n",
            "第3期中的总出现的次数: 8\n",
            "\n",
            "第4期中附和出现的次数: 12\n",
            "第4期中诱发出现的次数: 6\n",
            "第4期中的总出现的次数: 12\n",
            "\n",
            "第5期中附和出现的次数: 5\n",
            "第5期中诱发出现的次数: 9\n",
            "第5期中的总出现的次数: 10\n",
            "\n",
            "第6期中附和出现的次数: 11\n",
            "第6期中诱发出现的次数: 11\n",
            "第6期中的总出现的次数: 7\n",
            "\n"
          ]
        }
      ]
    },
    {
      "cell_type": "markdown",
      "source": [
        "##类型统计"
      ],
      "metadata": {
        "id": "Zt7L2NRbudyb"
      }
    },
    {
      "cell_type": "code",
      "source": [
        "df.at[4, \"画目类型\"] in [\"诱发\", \"符和\", [\"附和\", \"诱发\"], [\"诱发\", \"附和\"]]"
      ],
      "metadata": {
        "colab": {
          "base_uri": "https://localhost:8080/"
        },
        "id": "LTt6wrmxvgQx",
        "outputId": "0c1e521c-4446-41c1-aac4-3fa61a478686"
      },
      "execution_count": 158,
      "outputs": [
        {
          "output_type": "execute_result",
          "data": {
            "text/plain": [
              "True"
            ]
          },
          "metadata": {},
          "execution_count": 158
        }
      ]
    },
    {
      "cell_type": "code",
      "source": [
        "huamu_leixing = set()\n",
        "for i in range(len(df)):\n",
        "    for hm in df.at[i, \"画目类型\"]:\n",
        "        huamu_leixing.add(hm)\n",
        "        if hm not in [\"诱发\", \"附和\", [\"附和\", \"诱发\"], [\"诱发\", \"附和\"]]:\n",
        "            print(df.loc[i])\n",
        "            print(\"hahah\")\n",
        "            print(hm)\n",
        "            print(\"hahah\")\n",
        "huamu_leixing_list = list(huamu_leixing)\n",
        "print(huamu_leixing_list)"
      ],
      "metadata": {
        "id": "22H-aC1Fukl6"
      },
      "execution_count": null,
      "outputs": []
    },
    {
      "cell_type": "markdown",
      "source": [
        "## 画目统计"
      ],
      "metadata": {
        "id": "J11dEEmU_7rq"
      }
    },
    {
      "cell_type": "code",
      "source": [
        "huamu_set = set()\n",
        "for i in range(len(df)):\n",
        "    for hm in df.at[i, \"画目序列\"]:\n",
        "        if hm == \"诱发\":\n",
        "            print(df.loc[i])\n",
        "        if hm == \"\":\n",
        "            print(df.loc[i])\n",
        "        huamu_set.add(hm)\n",
        "\n",
        "huamu_list = list(huamu_set)\n",
        "print(huamu_list)"
      ],
      "metadata": {
        "colab": {
          "base_uri": "https://localhost:8080/"
        },
        "id": "ARrUl59B_7VS",
        "outputId": "4e8e02d4-c840-4758-df4a-9e4b6eb5e9d6"
      },
      "execution_count": 214,
      "outputs": [
        {
          "output_type": "stream",
          "name": "stdout",
          "text": [
            "['请求', '重复反馈', '重述', '补充', '反馈', '评论', '提名', '陈述', '提问', '帮助', '建议']\n"
          ]
        }
      ]
    },
    {
      "cell_type": "code",
      "source": [
        "huamu_dict_count = dict(zip(huamu_list, [[0 for _ in range(7)] for _ in range(len(huamu_list))]))  "
      ],
      "metadata": {
        "id": "2447CMdj-Emi"
      },
      "execution_count": 215,
      "outputs": []
    },
    {
      "cell_type": "code",
      "source": [
        "huamu_dict_count"
      ],
      "metadata": {
        "colab": {
          "base_uri": "https://localhost:8080/"
        },
        "id": "-yvDWGLrFClu",
        "outputId": "2384cdd9-c422-4964-8488-e088d8d91be9"
      },
      "execution_count": 216,
      "outputs": [
        {
          "output_type": "execute_result",
          "data": {
            "text/plain": [
              "{'请求': [0, 0, 0, 0, 0, 0, 0],\n",
              " '重复反馈': [0, 0, 0, 0, 0, 0, 0],\n",
              " '重述': [0, 0, 0, 0, 0, 0, 0],\n",
              " '补充': [0, 0, 0, 0, 0, 0, 0],\n",
              " '反馈': [0, 0, 0, 0, 0, 0, 0],\n",
              " '评论': [0, 0, 0, 0, 0, 0, 0],\n",
              " '提名': [0, 0, 0, 0, 0, 0, 0],\n",
              " '陈述': [0, 0, 0, 0, 0, 0, 0],\n",
              " '提问': [0, 0, 0, 0, 0, 0, 0],\n",
              " '帮助': [0, 0, 0, 0, 0, 0, 0],\n",
              " '建议': [0, 0, 0, 0, 0, 0, 0]}"
            ]
          },
          "metadata": {},
          "execution_count": 216
        }
      ]
    },
    {
      "cell_type": "code",
      "source": [
        "for i in range(len(df)):\n",
        "    location_jiemu = df.at[i, \"part\"]\n",
        "    for hm in df.at[i, \"画目序列\"]:\n",
        "        huamu_dict_count[hm][location_jiemu] += 1\n"
      ],
      "metadata": {
        "id": "RMdMAyk994aU"
      },
      "execution_count": 217,
      "outputs": []
    },
    {
      "cell_type": "code",
      "source": [
        "huamu_dict_count"
      ],
      "metadata": {
        "colab": {
          "base_uri": "https://localhost:8080/"
        },
        "id": "9HJ780KSFqtU",
        "outputId": "8d864e20-be27-48f1-d92b-b3bc202c1fb0"
      },
      "execution_count": 218,
      "outputs": [
        {
          "output_type": "execute_result",
          "data": {
            "text/plain": [
              "{'请求': [1, 0, 2, 2, 1, 5, 2],\n",
              " '重复反馈': [1, 1, 1, 1, 0, 2, 1],\n",
              " '重述': [10, 11, 3, 3, 6, 1, 3],\n",
              " '补充': [2, 2, 1, 1, 1, 0, 2],\n",
              " '反馈': [10, 12, 13, 7, 10, 5, 6],\n",
              " '评论': [7, 11, 1, 1, 4, 3, 4],\n",
              " '提名': [1, 0, 1, 4, 4, 0, 1],\n",
              " '陈述': [24, 54, 23, 20, 16, 16, 14],\n",
              " '提问': [11, 6, 5, 4, 4, 2, 2],\n",
              " '帮助': [11, 12, 5, 9, 8, 4, 4],\n",
              " '建议': [0, 0, 0, 1, 0, 1, 1]}"
            ]
          },
          "metadata": {},
          "execution_count": 218
        }
      ]
    },
    {
      "cell_type": "code",
      "source": [
        "len(df.at[0, \"画目类型\"])"
      ],
      "metadata": {
        "colab": {
          "base_uri": "https://localhost:8080/"
        },
        "id": "rBKt5zLw7pjE",
        "outputId": "b76c7ce3-4045-42b5-c4df-4fb07bd4edfb"
      },
      "execution_count": null,
      "outputs": [
        {
          "output_type": "execute_result",
          "data": {
            "text/plain": [
              "1"
            ]
          },
          "metadata": {},
          "execution_count": 13
        }
      ]
    },
    {
      "cell_type": "code",
      "source": [
        "df.at[0, \"画目序列\"]"
      ],
      "metadata": {
        "colab": {
          "base_uri": "https://localhost:8080/"
        },
        "id": "2HfqT2487GLX",
        "outputId": "f424be31-a209-4caa-e28f-4e5d6c1736d2"
      },
      "execution_count": null,
      "outputs": [
        {
          "output_type": "execute_result",
          "data": {
            "text/plain": [
              "['提名', '陈述', '提问']"
            ]
          },
          "metadata": {},
          "execution_count": 33
        }
      ]
    },
    {
      "cell_type": "code",
      "source": [
        "def jug_if_a_after_b(a, b, data_list):\n",
        "    \"\"\"用于判断data_list中,a是否在b之后\"\"\"\n",
        "    len_data = len(data_list)\n",
        "    for i, elem in enumerate(data_list):\n",
        "        if elem == b:\n",
        "            if jug_if_a_exist(a, data_list[i+1:]):\n",
        "                return True\n",
        "    return False\n",
        "    "
      ],
      "metadata": {
        "id": "Rbq0iiTSweBt"
      },
      "execution_count": 172,
      "outputs": []
    },
    {
      "cell_type": "code",
      "source": [
        "def jug_if_a_exist(a, data_list,):\n",
        "    \"\"\"用于判断a是否存在于list中\"\"\"\n",
        "    for elem in data_list:\n",
        "        if elem == a:\n",
        "            return True\n",
        "    return False\n",
        "        \n",
        "\n",
        "    "
      ],
      "metadata": {
        "id": "8QTpgSGyxgjN"
      },
      "execution_count": 173,
      "outputs": []
    },
    {
      "cell_type": "code",
      "source": [
        "def get_number_of_ask_statement(df):\n",
        "    ask_count = 0\n",
        "    ask_statement = 0\n",
        "    stb = 0\n",
        "    asb = 0\n",
        "    tdb = 1\n",
        "\n",
        "    tdb_223 = 0\n",
        "    tdb_other_youfa = 0\n",
        "    for i in range(df.shape[0]):\n",
        "        if jug_if_a_exist(\"提问\", df.at[i, \"画目序列\"]):\n",
        "            # print(df.at[i, \"画目序列\"])\n",
        "            ask_count += 1\n",
        "        if jug_if_a_after_b(\"提问\", \"陈述\", df.at[i, \"画目序列\"]):\n",
        "            ask_statement += 1\n",
        "        elif jug_if_a_after_b(\"补充\", \"提问\", df.at[i, \"画目序列\"]):\n",
        "            asb += 1\n",
        "        if jug_if_a_after_b(\"补充\", \"提问\", df.at[i, \"画目序列\"]):\n",
        "            stb += 1\n",
        "        if len(df.at[i, \"画目序列\"]) == 1 and jug_if_a_exist(\"提问\", df.at[i, \"画目序列\"]):\n",
        "            tdb += 1\n",
        "        \n",
        "        if len(df.at[i, \"画目序列\"])\n",
        "        \n",
        "\n",
        "    print(f\"提问在陈述后的个数:{ask_statement}\\n提问的个数:{ask_count}\\n提问后有补充的次数:{stb}\\n提问前没有陈述但是提问后有补充的次数:{asb}\\n提问单独出现的情况:{tdb}\\n\")\n"
      ],
      "metadata": {
        "id": "qEobrZ5J2RPq"
      },
      "execution_count": 201,
      "outputs": []
    },
    {
      "cell_type": "code",
      "source": [
        "get_number_of_ask_statement(df)"
      ],
      "metadata": {
        "colab": {
          "base_uri": "https://localhost:8080/"
        },
        "id": "n-btDy0O2qx-",
        "outputId": "61f7db7e-ff1f-44e2-d1c5-5d518731f23c"
      },
      "execution_count": 202,
      "outputs": [
        {
          "output_type": "stream",
          "name": "stdout",
          "text": [
            "提问在陈述后的个数:30\n",
            "提问的个数:49\n",
            "提问后有补充的次数:7\n",
            "提问前没有陈述但是提问后有补充的次数:2\n",
            "提问单独出现的情况:13\n",
            "\n"
          ]
        }
      ]
    },
    {
      "cell_type": "markdown",
      "source": [
        "## 提问单独出现&提问和其他诱发一起出现的次数"
      ],
      "metadata": {
        "id": "jeCM38oL8PME"
      }
    },
    {
      "cell_type": "code",
      "source": [
        "def tiwen_single(df):\n",
        "    youfa = ['提名', '补充', '建议', '请求', '陈述']\n",
        "    count = [0, 0, 0, 0, 0, 0, 0]\n",
        "    for i in range(len(df)):\n",
        "        location_jiemu = df.at[i, \"part\"] \n",
        "        if jug_if_a_exist(\"提问\", df.at[i, \"画目序列\"]):\n",
        "            tag = 0\n",
        "            for yf in youfa:\n",
        "                if jug_if_a_exist(yf, df.at[i, \"画目序列\"]):\n",
        "                    tag = 1\n",
        "                    break\n",
        "            if tag == 0:\n",
        "                count[location_jiemu] += 1\n",
        "    print(count)\n",
        "\n",
        "tiwen_single(df)\n",
        "                "
      ],
      "metadata": {
        "colab": {
          "base_uri": "https://localhost:8080/"
        },
        "id": "AHAJmix08Ol0",
        "outputId": "db444f07-1959-4c15-a01f-89302e68a25e"
      },
      "execution_count": 219,
      "outputs": [
        {
          "output_type": "stream",
          "name": "stdout",
          "text": [
            "[3, 3, 1, 0, 0, 1, 0]\n"
          ]
        }
      ]
    },
    {
      "cell_type": "code",
      "source": [],
      "metadata": {
        "id": "hj5v6h1G6pfR"
      },
      "execution_count": null,
      "outputs": []
    },
    {
      "cell_type": "markdown",
      "source": [
        "## 陈述单独出现的次数"
      ],
      "metadata": {
        "id": "vn4S2d-TXnOO"
      }
    },
    {
      "cell_type": "code",
      "source": [
        "def chenshu_single(df):\n",
        "    youfa = ['提名', '补充', '建议', '请求', '提问']\n",
        "    count = [0, 0, 0, 0, 0, 0, 0]\n",
        "    for i in range(len(df)):\n",
        "        location_jiemu = df.at[i, \"part\"] \n",
        "        if jug_if_a_exist(\"陈述\", df.at[i, \"画目序列\"]):\n",
        "            tag = 0\n",
        "            for yf in youfa:\n",
        "                if jug_if_a_exist(yf, df.at[i, \"画目序列\"]):\n",
        "                    tag = 1\n",
        "                    break\n",
        "            if tag == 0:\n",
        "                count[location_jiemu] += 1\n",
        "    print(count)\n",
        "\n",
        "chenshu_single(df)\n",
        "                "
      ],
      "metadata": {
        "colab": {
          "base_uri": "https://localhost:8080/"
        },
        "id": "CoiVURd8YJEE",
        "outputId": "46952c19-f80f-4b1b-c752-bd9c7358e35d"
      },
      "execution_count": 220,
      "outputs": [
        {
          "output_type": "stream",
          "name": "stdout",
          "text": [
            "[16, 51, 17, 13, 12, 11, 13]\n"
          ]
        }
      ]
    },
    {
      "cell_type": "code",
      "source": [],
      "metadata": {
        "id": "H7qi_uzwYRQg"
      },
      "execution_count": null,
      "outputs": []
    },
    {
      "cell_type": "markdown",
      "source": [
        "## 帮助出现的次数"
      ],
      "metadata": {
        "id": "rFviLzF0aPZu"
      }
    },
    {
      "cell_type": "code",
      "source": [
        "def help_happen(df):\n",
        "    count_sum = 0\n",
        "    count = [0, 0, 0, 0, 0, 0, 0]\n",
        "    for i in range(len(df)):\n",
        "        location_jiemu = df.at[i, \"part\"] \n",
        "        if jug_if_a_exist(\"帮助\", df.at[i, \"画目序列\"]):\n",
        "            # print(df.at[i, \"画目序列\"], df.at[i, \"part\"])\n",
        "            count_sum += 1\n",
        "            count[location_jiemu] += 1\n",
        "            if len(df.at[i, \"画目序列\"]) != 1:\n",
        "                print(df.at[i, \"画目序列\"], df.at[i, \"part\"])\n",
        "    \n",
        "    print(f\"帮助每一期出现的次数{count}\")\n",
        "    print(f\"帮助总共出现的次数:{count_sum}\\n\")\n",
        "            \n",
        "    \n",
        "help_happen(df)\n",
        "  "
      ],
      "metadata": {
        "colab": {
          "base_uri": "https://localhost:8080/"
        },
        "id": "Q_umptwjaTf_",
        "outputId": "20d0ea1a-eb9b-4e93-d87a-de30f9ce282c"
      },
      "execution_count": 204,
      "outputs": [
        {
          "output_type": "stream",
          "name": "stdout",
          "text": [
            "['帮助', '提名'] 0\n",
            "['帮助', '陈述'] 1\n",
            "['帮助', '陈述'] 1\n",
            "帮助每一期出现的次数[1, 18, 5, 3, 2, 0, 2]\n",
            "帮助总共出现的次数:31\n",
            "\n"
          ]
        }
      ]
    },
    {
      "cell_type": "code",
      "source": [
        "def single_happen(df, huamu):\n",
        "    count_sum = 0\n",
        "    count = [0, 0, 0, 0, 0, 0, 0]\n",
        "    count_single = [0, 0, 0, 0, 0, 0, 0]\n",
        "    count_pc = [0, 0, 0, 0, 0, 0, 0]\n",
        "    if huamu == \"反馈\":\n",
        "        for i in range(len(df)):\n",
        "            location_jiemu = df.at[i, \"part\"]\n",
        "            if jug_if_a_exist(\"反馈\", df.at[i, \"画目序列\"]):\n",
        "                count_sum += 1\n",
        "                count[location_jiemu] += 1\n",
        "                if len(df.at[i, \"画目序列\"]) == 1:\n",
        "                    count_single[location_jiemu] += 1\n",
        "            if jug_if_a_exist(\"重复反馈\", df.at[i, \"画目序列\"]):\n",
        "                count_sum += 1\n",
        "                count[location_jiemu] += 1\n",
        "                if len(df.at[i, \"画目序列\"]) == 1:\n",
        "                    count_single[location_jiemu] += 1\n",
        "    else:\n",
        "            \n",
        "\n",
        "        for i in range(len(df)):\n",
        "            location_jiemu = df.at[i, \"part\"]\n",
        "            if jug_if_a_exist(huamu, df.at[i, \"画目序列\"]):\n",
        "                # print(df.at[i, \"画目序列\"], df.at[i, \"part\"])\n",
        "                count_sum += 1\n",
        "                count[location_jiemu] += 1\n",
        "                if len(df.at[i, \"画目序列\"]) == 1:\n",
        "                    count_single[location_jiemu] += 1\n",
        "        \n",
        "    for i in range(len(count)):\n",
        "        if count[i] == 0:\n",
        "            print(f\"第{i}期没有{huamu}!!!\")\n",
        "        else:\n",
        "            count_pc[i] = count_single[i] / count[i]\n",
        "    print(f\"{huamu}每一期出现的次数{count}\")\n",
        "    print(f\"{huamu}总共出现的次数:{count_sum}\\n\")\n",
        "    print(f\"{huamu}单独出现的次数:{count_single}\")\n",
        "    for i, cp in enumerate(count_pc):\n",
        "        print(f\"第{i}期{huamu}单独出现所占的比例{cp}\")\n",
        "    return count_single\n",
        "\n",
        "def single_happened():\n",
        "    check_list = [\"反馈\", \"帮助\", \"评论\", \"重述\"]\n",
        "    single_count_dict = dict(zip(check_list, [None for _ in range(7)]))\n",
        "    for cl in check_list:\n",
        "        single_count_dict[cl] = single_happen(df, cl)\n",
        "    \n",
        "    return single_count_dict\n",
        "        \n",
        "    \n",
        "\n",
        "scd = single_happened()\n",
        "\n"
      ],
      "metadata": {
        "colab": {
          "base_uri": "https://localhost:8080/"
        },
        "id": "ztkGVfJVdF4V",
        "outputId": "b7cd4925-244e-4f19-f27d-220528c26a66"
      },
      "execution_count": 221,
      "outputs": [
        {
          "output_type": "stream",
          "name": "stdout",
          "text": [
            "反馈每一期出现的次数[11, 13, 14, 8, 10, 7, 7]\n",
            "反馈总共出现的次数:70\n",
            "\n",
            "反馈单独出现的次数:[5, 5, 8, 2, 3, 4, 2]\n",
            "第0期反馈单独出现所占的比例0.45454545454545453\n",
            "第1期反馈单独出现所占的比例0.38461538461538464\n",
            "第2期反馈单独出现所占的比例0.5714285714285714\n",
            "第3期反馈单独出现所占的比例0.25\n",
            "第4期反馈单独出现所占的比例0.3\n",
            "第5期反馈单独出现所占的比例0.5714285714285714\n",
            "第6期反馈单独出现所占的比例0.2857142857142857\n",
            "帮助每一期出现的次数[11, 12, 5, 9, 8, 4, 4]\n",
            "帮助总共出现的次数:53\n",
            "\n",
            "帮助单独出现的次数:[9, 7, 3, 8, 7, 1, 4]\n",
            "第0期帮助单独出现所占的比例0.8181818181818182\n",
            "第1期帮助单独出现所占的比例0.5833333333333334\n",
            "第2期帮助单独出现所占的比例0.6\n",
            "第3期帮助单独出现所占的比例0.8888888888888888\n",
            "第4期帮助单独出现所占的比例0.875\n",
            "第5期帮助单独出现所占的比例0.25\n",
            "第6期帮助单独出现所占的比例1.0\n",
            "评论每一期出现的次数[7, 11, 1, 1, 4, 3, 4]\n",
            "评论总共出现的次数:31\n",
            "\n",
            "评论单独出现的次数:[5, 6, 0, 1, 1, 0, 3]\n",
            "第0期评论单独出现所占的比例0.7142857142857143\n",
            "第1期评论单独出现所占的比例0.5454545454545454\n",
            "第2期评论单独出现所占的比例0.0\n",
            "第3期评论单独出现所占的比例1.0\n",
            "第4期评论单独出现所占的比例0.25\n",
            "第5期评论单独出现所占的比例0.0\n",
            "第6期评论单独出现所占的比例0.75\n",
            "重述每一期出现的次数[10, 11, 3, 3, 6, 1, 3]\n",
            "重述总共出现的次数:37\n",
            "\n",
            "重述单独出现的次数:[7, 6, 2, 1, 1, 0, 2]\n",
            "第0期重述单独出现所占的比例0.7\n",
            "第1期重述单独出现所占的比例0.5454545454545454\n",
            "第2期重述单独出现所占的比例0.6666666666666666\n",
            "第3期重述单独出现所占的比例0.3333333333333333\n",
            "第4期重述单独出现所占的比例0.16666666666666666\n",
            "第5期重述单独出现所占的比例0.0\n",
            "第6期重述单独出现所占的比例0.6666666666666666\n"
          ]
        }
      ]
    },
    {
      "cell_type": "code",
      "source": [
        "scd"
      ],
      "metadata": {
        "colab": {
          "base_uri": "https://localhost:8080/"
        },
        "id": "90NVdXtqmH04",
        "outputId": "344e44bb-9c24-47c6-ade5-e2889ad6ebbe"
      },
      "execution_count": null,
      "outputs": [
        {
          "output_type": "execute_result",
          "data": {
            "text/plain": [
              "{'反馈': [5, 5, 8, 2, 3, 4, 3],\n",
              " '帮助': [9, 7, 3, 8, 7, 1, 4],\n",
              " '评论': [5, 6, 0, 1, 1, 0, 3],\n",
              " '重述': [7, 6, 2, 1, 1, 0, 2]}"
            ]
          },
          "metadata": {},
          "execution_count": 136
        }
      ]
    },
    {
      "cell_type": "markdown",
      "source": [
        "## 画图"
      ],
      "metadata": {
        "id": "fu3s2W-jzN4v"
      }
    },
    {
      "cell_type": "code",
      "source": [
        "x1_width = range(0,len(x_data))\n",
        "x2_width = [i+0.3 for i in x1_width]\n",
        "x3_width = [i+0.6 for i in x1_width]\n",
        "x4_width = [i+0.9 for i in x1_width]"
      ],
      "metadata": {
        "id": "VuSNbaLBpYXD"
      },
      "execution_count": null,
      "outputs": []
    },
    {
      "cell_type": "code",
      "source": [
        "print(x_width, x2_width)"
      ],
      "metadata": {
        "colab": {
          "base_uri": "https://localhost:8080/"
        },
        "id": "AwA74COLpaRJ",
        "outputId": "0c305936-15fd-404b-d29a-1b124fe2c84f"
      },
      "execution_count": null,
      "outputs": [
        {
          "output_type": "stream",
          "name": "stdout",
          "text": [
            "range(0, 7) [0.3, 1.3, 2.3, 3.3, 4.3, 5.3, 6.3]\n"
          ]
        }
      ]
    },
    {
      "cell_type": "code",
      "source": [
        "def drawp():\n",
        "    wd = 0.3\n",
        "    import matplotlib.pyplot as plt\n",
        "    from matplotlib.font_manager import FontProperties  # 导入FontProperties\n",
        "    \n",
        "    font = FontProperties(fname=\"SimHei.ttf\", size=14)  # 设置字体\n",
        "\n",
        "    plt.rcParams['font.sans-serif'] = ['SimHei']\n",
        "    plt.rcParams['axes.unicode_minus'] = False\n",
        "    labels = [\"{}th\".format(i) for i in range(1, 8)]\n",
        "\n",
        "\n",
        "\n",
        "\n",
        "\n",
        "    x = np.arange(len(labels)) * 2 \n",
        "    x1_width = x\n",
        "    x2_width = [i+wd for i in x]\n",
        "    x3_width = [i+wd*2 for i in x]\n",
        "    x4_width = [i+wd*3 for i in x]\n",
        "\n",
        "    y1_data = scd[\"反馈\"]\n",
        "    y2_data = scd[\"帮助\"]\n",
        "    y3_data = scd[\"评论\"]\n",
        "    y4_data = scd[\"重述\"]\n",
        "\n",
        "    fig, ax = plt.subplots()\n",
        "\n",
        "    rts1 = ax.bar(x1_width,y1_data,wd ,fc=\"r\",label=\" \")\n",
        "    rts2 = ax.bar(x2_width,y2_data,wd ,fc=\"b\",label=\" \")\n",
        "    rts3 = ax.bar(x3_width,y3_data,wd ,fc=\"g\",label=\" \")\n",
        "    rts4 = ax.bar(x4_width,y4_data,wd ,fc=\"y\",label=\" \")\n",
        "\n",
        "    ax.set_xticks(x)\n",
        "    ax.set_xticklabels(labels)\n",
        "    ax.legend()\n",
        "    def autolabel(rects):\n",
        "        \"\"\"Attach a text label above each bar in *rects*, displaying its height.\"\"\"\n",
        "        for rect in rects:\n",
        "            height = rect.get_height()\n",
        "            ax.annotate('{}'.format(height),\n",
        "                        xy=(rect.get_x() + rect.get_width() / 2, height),\n",
        "                        xytext=(0, 3),  # 3 points vertical offset\n",
        "                        textcoords=\"offset points\",\n",
        "                        ha='center', va='bottom')\n",
        "\n",
        "\n",
        "    autolabel(rts1)\n",
        "    autolabel(rts2)\n",
        "    autolabel(rts3)\n",
        "    autolabel(rts4)\n",
        "\n",
        "    fig.tight_layout()\n",
        "\n",
        "    plt.show()"
      ],
      "metadata": {
        "id": "68pRXDoohrZZ"
      },
      "execution_count": 207,
      "outputs": []
    },
    {
      "cell_type": "markdown",
      "source": [
        "## x"
      ],
      "metadata": {
        "id": "1oBDzLgdYGuW"
      }
    },
    {
      "cell_type": "code",
      "source": [
        "df"
      ],
      "metadata": {
        "colab": {
          "base_uri": "https://localhost:8080/",
          "height": 424
        },
        "id": "ApiQDylypxAn",
        "outputId": "51575bad-4c6e-41ba-a688-f377945284df"
      },
      "execution_count": null,
      "outputs": [
        {
          "output_type": "execute_result",
          "data": {
            "text/plain": [
              "      No      画目类型          画目序列  part\n",
              "0    001      [诱发]  [提名, 陈述, 提问]     0\n",
              "1    002  [附和, 诱发]    [重复反馈, 陈述]     0\n",
              "2    003      [附和]          [重述]     0\n",
              "3    004      [附和]          [帮助]     0\n",
              "4    005  [附和, 诱发]      [重述, 陈述]     0\n",
              "..   ...       ...           ...   ...\n",
              "286  287      [附和]          [评论]     6\n",
              "287  288  [附和, 诱发]      [反馈, 陈述]     6\n",
              "288  289      [附和]          [帮助]     6\n",
              "289  290  [附和, 诱发]      [重述, 陈述]     6\n",
              "290  291  [附和, 诱发]      [反馈, 陈述]     6\n",
              "\n",
              "[291 rows x 4 columns]"
            ],
            "text/html": [
              "\n",
              "  <div id=\"df-111f2dea-f5fa-4123-99bf-55e5f58e818e\">\n",
              "    <div class=\"colab-df-container\">\n",
              "      <div>\n",
              "<style scoped>\n",
              "    .dataframe tbody tr th:only-of-type {\n",
              "        vertical-align: middle;\n",
              "    }\n",
              "\n",
              "    .dataframe tbody tr th {\n",
              "        vertical-align: top;\n",
              "    }\n",
              "\n",
              "    .dataframe thead th {\n",
              "        text-align: right;\n",
              "    }\n",
              "</style>\n",
              "<table border=\"1\" class=\"dataframe\">\n",
              "  <thead>\n",
              "    <tr style=\"text-align: right;\">\n",
              "      <th></th>\n",
              "      <th>No</th>\n",
              "      <th>画目类型</th>\n",
              "      <th>画目序列</th>\n",
              "      <th>part</th>\n",
              "    </tr>\n",
              "  </thead>\n",
              "  <tbody>\n",
              "    <tr>\n",
              "      <th>0</th>\n",
              "      <td>001</td>\n",
              "      <td>[诱发]</td>\n",
              "      <td>[提名, 陈述, 提问]</td>\n",
              "      <td>0</td>\n",
              "    </tr>\n",
              "    <tr>\n",
              "      <th>1</th>\n",
              "      <td>002</td>\n",
              "      <td>[附和, 诱发]</td>\n",
              "      <td>[重复反馈, 陈述]</td>\n",
              "      <td>0</td>\n",
              "    </tr>\n",
              "    <tr>\n",
              "      <th>2</th>\n",
              "      <td>003</td>\n",
              "      <td>[附和]</td>\n",
              "      <td>[重述]</td>\n",
              "      <td>0</td>\n",
              "    </tr>\n",
              "    <tr>\n",
              "      <th>3</th>\n",
              "      <td>004</td>\n",
              "      <td>[附和]</td>\n",
              "      <td>[帮助]</td>\n",
              "      <td>0</td>\n",
              "    </tr>\n",
              "    <tr>\n",
              "      <th>4</th>\n",
              "      <td>005</td>\n",
              "      <td>[附和, 诱发]</td>\n",
              "      <td>[重述, 陈述]</td>\n",
              "      <td>0</td>\n",
              "    </tr>\n",
              "    <tr>\n",
              "      <th>...</th>\n",
              "      <td>...</td>\n",
              "      <td>...</td>\n",
              "      <td>...</td>\n",
              "      <td>...</td>\n",
              "    </tr>\n",
              "    <tr>\n",
              "      <th>286</th>\n",
              "      <td>287</td>\n",
              "      <td>[附和]</td>\n",
              "      <td>[评论]</td>\n",
              "      <td>6</td>\n",
              "    </tr>\n",
              "    <tr>\n",
              "      <th>287</th>\n",
              "      <td>288</td>\n",
              "      <td>[附和, 诱发]</td>\n",
              "      <td>[反馈, 陈述]</td>\n",
              "      <td>6</td>\n",
              "    </tr>\n",
              "    <tr>\n",
              "      <th>288</th>\n",
              "      <td>289</td>\n",
              "      <td>[附和]</td>\n",
              "      <td>[帮助]</td>\n",
              "      <td>6</td>\n",
              "    </tr>\n",
              "    <tr>\n",
              "      <th>289</th>\n",
              "      <td>290</td>\n",
              "      <td>[附和, 诱发]</td>\n",
              "      <td>[重述, 陈述]</td>\n",
              "      <td>6</td>\n",
              "    </tr>\n",
              "    <tr>\n",
              "      <th>290</th>\n",
              "      <td>291</td>\n",
              "      <td>[附和, 诱发]</td>\n",
              "      <td>[反馈, 陈述]</td>\n",
              "      <td>6</td>\n",
              "    </tr>\n",
              "  </tbody>\n",
              "</table>\n",
              "<p>291 rows × 4 columns</p>\n",
              "</div>\n",
              "      <button class=\"colab-df-convert\" onclick=\"convertToInteractive('df-111f2dea-f5fa-4123-99bf-55e5f58e818e')\"\n",
              "              title=\"Convert this dataframe to an interactive table.\"\n",
              "              style=\"display:none;\">\n",
              "        \n",
              "  <svg xmlns=\"http://www.w3.org/2000/svg\" height=\"24px\"viewBox=\"0 0 24 24\"\n",
              "       width=\"24px\">\n",
              "    <path d=\"M0 0h24v24H0V0z\" fill=\"none\"/>\n",
              "    <path d=\"M18.56 5.44l.94 2.06.94-2.06 2.06-.94-2.06-.94-.94-2.06-.94 2.06-2.06.94zm-11 1L8.5 8.5l.94-2.06 2.06-.94-2.06-.94L8.5 2.5l-.94 2.06-2.06.94zm10 10l.94 2.06.94-2.06 2.06-.94-2.06-.94-.94-2.06-.94 2.06-2.06.94z\"/><path d=\"M17.41 7.96l-1.37-1.37c-.4-.4-.92-.59-1.43-.59-.52 0-1.04.2-1.43.59L10.3 9.45l-7.72 7.72c-.78.78-.78 2.05 0 2.83L4 21.41c.39.39.9.59 1.41.59.51 0 1.02-.2 1.41-.59l7.78-7.78 2.81-2.81c.8-.78.8-2.07 0-2.86zM5.41 20L4 18.59l7.72-7.72 1.47 1.35L5.41 20z\"/>\n",
              "  </svg>\n",
              "      </button>\n",
              "      \n",
              "  <style>\n",
              "    .colab-df-container {\n",
              "      display:flex;\n",
              "      flex-wrap:wrap;\n",
              "      gap: 12px;\n",
              "    }\n",
              "\n",
              "    .colab-df-convert {\n",
              "      background-color: #E8F0FE;\n",
              "      border: none;\n",
              "      border-radius: 50%;\n",
              "      cursor: pointer;\n",
              "      display: none;\n",
              "      fill: #1967D2;\n",
              "      height: 32px;\n",
              "      padding: 0 0 0 0;\n",
              "      width: 32px;\n",
              "    }\n",
              "\n",
              "    .colab-df-convert:hover {\n",
              "      background-color: #E2EBFA;\n",
              "      box-shadow: 0px 1px 2px rgba(60, 64, 67, 0.3), 0px 1px 3px 1px rgba(60, 64, 67, 0.15);\n",
              "      fill: #174EA6;\n",
              "    }\n",
              "\n",
              "    [theme=dark] .colab-df-convert {\n",
              "      background-color: #3B4455;\n",
              "      fill: #D2E3FC;\n",
              "    }\n",
              "\n",
              "    [theme=dark] .colab-df-convert:hover {\n",
              "      background-color: #434B5C;\n",
              "      box-shadow: 0px 1px 3px 1px rgba(0, 0, 0, 0.15);\n",
              "      filter: drop-shadow(0px 1px 2px rgba(0, 0, 0, 0.3));\n",
              "      fill: #FFFFFF;\n",
              "    }\n",
              "  </style>\n",
              "\n",
              "      <script>\n",
              "        const buttonEl =\n",
              "          document.querySelector('#df-111f2dea-f5fa-4123-99bf-55e5f58e818e button.colab-df-convert');\n",
              "        buttonEl.style.display =\n",
              "          google.colab.kernel.accessAllowed ? 'block' : 'none';\n",
              "\n",
              "        async function convertToInteractive(key) {\n",
              "          const element = document.querySelector('#df-111f2dea-f5fa-4123-99bf-55e5f58e818e');\n",
              "          const dataTable =\n",
              "            await google.colab.kernel.invokeFunction('convertToInteractive',\n",
              "                                                     [key], {});\n",
              "          if (!dataTable) return;\n",
              "\n",
              "          const docLinkHtml = 'Like what you see? Visit the ' +\n",
              "            '<a target=\"_blank\" href=https://colab.research.google.com/notebooks/data_table.ipynb>data table notebook</a>'\n",
              "            + ' to learn more about interactive tables.';\n",
              "          element.innerHTML = '';\n",
              "          dataTable['output_type'] = 'display_data';\n",
              "          await google.colab.output.renderOutput(dataTable, element);\n",
              "          const docLink = document.createElement('div');\n",
              "          docLink.innerHTML = docLinkHtml;\n",
              "          element.appendChild(docLink);\n",
              "        }\n",
              "      </script>\n",
              "    </div>\n",
              "  </div>\n",
              "  "
            ]
          },
          "metadata": {},
          "execution_count": 87
        }
      ]
    },
    {
      "cell_type": "code",
      "source": [
        "def fuhe_befroe_youfa(df):\n",
        "    count = [0, 0, 0, 0, 0, 0, 0]\n",
        "    count_all = [0, 0, 0, 0, 0, 0, 0]\n",
        "    fankui_happened = [0, 0, 0, 0, 0, 0, 0]\n",
        "    haiyouqita = [0, 0, 0, 0, 0, 0, 0]\n",
        "    for i in range(len(df)):\n",
        "        location_jiemu = df.at[i, \"part\"]\n",
        "        if len(df.at[i, \"画目类型\"]) == 2:\n",
        "            count_all[location_jiemu] += 1\n",
        "            if jug_if_a_after_b(\"诱发\",\"附和\", df.at[i, \"画目类型\"]):\n",
        "                count[location_jiemu] += 1\n",
        "                print(df[i:i+1])\n",
        "                if jug_if_a_exist(\"反馈\", df.at[i, \"画目序列\"]) or jug_if_a_exist(\"重复反馈\", df.at[i, \"画目序列\"]):\n",
        "                    fankui_happened[location_jiemu] += 1\n",
        "                    tag = 0\n",
        "                    typ = [\"帮助\",\"评论\",\"重述\"]\n",
        "                    for t in typ:\n",
        "                        if t in df.at[i, \"画目序列\"]:\n",
        "                            tag = 1\n",
        "                            haiyouqita[location_jiemu] += 1\n",
        "                            break\n",
        "                        \n",
        "    print(f\"附和在诱发前出现的次数{count}\\n附和和诱发一共出现的次数{count_all}\\n反馈出现的次数{fankui_happened}\\n还有其他:{haiyouqita}\")\n",
        "    count_pcd = [0, 0, 0, 0, 0, 0, 0]\n",
        "    for i in range(len(count_pcd)):\n",
        "        count_pcd[i] = fankui_happened[i] / count_all[i]\n",
        "    print(f\"所占比例{count_pcd}\")"
      ],
      "metadata": {
        "id": "IcfrpaE_Vxq0"
      },
      "execution_count": null,
      "outputs": []
    },
    {
      "cell_type": "code",
      "source": [
        "fuhe_befroe_youfa(df)"
      ],
      "metadata": {
        "colab": {
          "base_uri": "https://localhost:8080/"
        },
        "id": "WbYlsUc0z92z",
        "outputId": "f717784c-eeb7-443f-d231-0561437e9fd6"
      },
      "execution_count": null,
      "outputs": [
        {
          "output_type": "stream",
          "name": "stdout",
          "text": [
            "    No      画目类型        画目序列  part\n",
            "1  002  [附和, 诱发]  [重复反馈, 陈述]     0\n",
            "    No      画目类型      画目序列  part\n",
            "4  005  [附和, 诱发]  [重述, 陈述]     0\n",
            "    No      画目类型      画目序列  part\n",
            "8  009  [附和, 诱发]  [反馈, 陈述]     0\n",
            "    No      画目类型      画目序列  part\n",
            "9  010  [附和, 诱发]  [帮助, 陈述]     0\n",
            "     No      画目类型          画目序列  part\n",
            "11  012  [附和, 诱发]  [反馈, 陈述, 提问]     0\n",
            "     No      画目类型      画目序列  part\n",
            "22  023  [附和, 诱发]  [评论, 陈述]     0\n",
            "     No      画目类型          画目序列  part\n",
            "31  032  [附和, 诱发]  [反馈, 陈述, 提问]     0\n",
            "     No      画目类型          画目序列  part\n",
            "40  041  [附和, 诱发]  [陈述, 提问, 补充]     0\n",
            "     No      画目类型      画目序列  part\n",
            "41  042  [附和, 诱发]  [重述, 陈述]     0\n",
            "     No      画目类型      画目序列  part\n",
            "42  043  [附和, 诱发]  [反馈, 陈述]     0\n",
            "     No      画目类型          画目序列  part\n",
            "54  055  [附和, 诱发]  [评论, 陈述, 提问]     0\n",
            "     No      画目类型          画目序列  part\n",
            "64  065  [附和, 诱发]  [评论, 陈述, 提问]     1\n",
            "     No      画目类型      画目序列  part\n",
            "66  067  [附和, 诱发]  [帮助, 陈述]     1\n",
            "     No      画目类型      画目序列  part\n",
            "74  075  [附和, 诱发]  [帮助, 陈述]     1\n",
            "     No      画目类型      画目序列  part\n",
            "76  077  [附和, 诱发]  [反馈, 陈述]     1\n",
            "     No      画目类型      画目序列  part\n",
            "85  086  [附和, 诱发]  [重述, 陈述]     1\n",
            "     No      画目类型        画目序列  part\n",
            "98  099  [附和, 诱发]  [重复反馈, 陈述]     1\n",
            "      No      画目类型          画目序列  part\n",
            "102  103  [附和, 诱发]  [反馈, 评论, 陈述]     1\n",
            "      No      画目类型      画目序列  part\n",
            "103  104  [附和, 诱发]  [反馈, 陈述]     1\n",
            "      No      画目类型      画目序列  part\n",
            "104  105  [附和, 诱发]  [反馈, 陈述]     1\n",
            "      No      画目类型      画目序列  part\n",
            "107  108  [附和, 诱发]  [反馈, 陈述]     1\n",
            "      No      画目类型      画目序列  part\n",
            "109  110  [附和, 诱发]  [帮助, 陈述]     1\n",
            "      No      画目类型      画目序列  part\n",
            "112  113  [附和, 诱发]  [重述, 陈述]     1\n",
            "      No      画目类型      画目序列  part\n",
            "116  117  [附和, 诱发]  [反馈, 陈述]     1\n",
            "      No      画目类型      画目序列  part\n",
            "122  123  [附和, 诱发]  [评论, 陈述]     1\n",
            "      No      画目类型      画目序列  part\n",
            "123  124  [附和, 诱发]  [反馈, 陈述]     1\n",
            "      No      画目类型      画目序列  part\n",
            "124  125  [附和, 诱发]  [重述, 陈述]     1\n",
            "      No      画目类型      画目序列  part\n",
            "130  131  [附和, 诱发]  [帮助, 陈述]     1\n",
            "      No      画目类型      画目序列  part\n",
            "135  136  [附和, 诱发]  [重述, 陈述]     1\n",
            "      No      画目类型      画目序列  part\n",
            "140  141  [附和, 诱发]  [反馈, 陈述]     2\n",
            "      No      画目类型      画目序列  part\n",
            "142  143  [附和, 诱发]  [反馈, 陈述]     2\n",
            "      No      画目类型      画目序列  part\n",
            "153  154  [附和, 诱发]  [帮助, 陈述]     2\n",
            "      No      画目类型      画目序列  part\n",
            "156  157  [附和, 诱发]  [评论, 陈述]     2\n",
            "      No      画目类型      画目序列  part\n",
            "157  158  [附和, 诱发]  [反馈, 陈述]     2\n",
            "      No      画目类型          画目序列  part\n",
            "161  162  [附和, 诱发]  [反馈, 陈述, 请求]     2\n",
            "      No      画目类型      画目序列  part\n",
            "163  164  [附和, 诱发]  [重述, 陈述]     2\n",
            "      No      画目类型      画目序列  part\n",
            "164  165  [附和, 诱发]  [反馈, 陈述]     2\n",
            "      No      画目类型      画目序列  part\n",
            "171  172  [附和, 诱发]  [反馈, 陈述]     2\n",
            "      No      画目类型      画目序列  part\n",
            "174  175  [附和, 诱发]  [帮助, 陈述]     2\n",
            "      No      画目类型            画目序列  part\n",
            "178  179  [附和, 诱发]  [重复反馈, 陈述, 提问]     3\n",
            "      No      画目类型      画目序列  part\n",
            "179  180  [附和, 诱发]  [反馈, 陈述]     3\n",
            "      No      画目类型              画目序列  part\n",
            "181  182  [附和, 诱发]  [反馈, 陈述, 提名, 请求]     3\n",
            "      No      画目类型          画目序列  part\n",
            "183  184  [附和, 诱发]  [反馈, 重述, 陈述]     3\n",
            "      No      画目类型      画目序列  part\n",
            "194  195  [附和, 诱发]  [帮助, 陈述]     3\n",
            "      No      画目类型      画目序列  part\n",
            "197  198  [附和, 诱发]  [反馈, 陈述]     3\n",
            "      No      画目类型      画目序列  part\n",
            "201  202  [附和, 诱发]  [反馈, 陈述]     3\n",
            "      No      画目类型          画目序列  part\n",
            "206  207  [附和, 诱发]  [重述, 陈述, 提问]     3\n",
            "      No      画目类型              画目序列  part\n",
            "212  213  [附和, 诱发]  [反馈, 提问, 补充, 提名]     4\n",
            "      No      画目类型      画目序列  part\n",
            "213  214  [附和, 诱发]  [反馈, 陈述]     4\n",
            "      No      画目类型      画目序列  part\n",
            "215  216  [附和, 诱发]  [重述, 陈述]     4\n",
            "      No      画目类型      画目序列  part\n",
            "217  218  [附和, 诱发]  [反馈, 陈述]     4\n",
            "      No      画目类型                  画目序列  part\n",
            "218  219  [附和, 诱发]  [反馈, 评论, 陈述, 提名, 提问]     4\n",
            "      No      画目类型      画目序列  part\n",
            "221  222  [附和, 诱发]  [帮助, 陈述]     4\n",
            "      No      画目类型          画目序列  part\n",
            "226  227  [附和, 诱发]  [重述, 陈述, 提问]     4\n",
            "      No      画目类型      画目序列  part\n",
            "228  229  [附和, 诱发]  [反馈, 陈述]     4\n",
            "      No      画目类型      画目序列  part\n",
            "230  231  [附和, 诱发]  [反馈, 陈述]     4\n",
            "      No      画目类型          画目序列  part\n",
            "231  232  [附和, 诱发]  [反馈, 重述, 陈述]     4\n",
            "      No      画目类型      画目序列  part\n",
            "236  237  [附和, 诱发]  [重述, 陈述]     4\n",
            "      No      画目类型      画目序列  part\n",
            "241  242  [附和, 诱发]  [评论, 陈述]     5\n",
            "      No      画目类型          画目序列  part\n",
            "245  246  [附和, 诱发]  [帮助, 陈述, 请求]     5\n",
            "      No      画目类型      画目序列  part\n",
            "247  248  [附和, 诱发]  [反馈, 陈述]     5\n",
            "      No      画目类型        画目序列  part\n",
            "249  250  [附和, 诱发]  [重复反馈, 提问]     5\n",
            "      No      画目类型      画目序列  part\n",
            "252  253  [附和, 诱发]  [评论, 陈述]     5\n",
            "      No      画目类型      画目序列  part\n",
            "253  254  [附和, 诱发]  [帮助, 请求]     5\n",
            "      No      画目类型      画目序列  part\n",
            "254  255  [附和, 诱发]  [评论, 陈述]     5\n",
            "      No      画目类型      画目序列  part\n",
            "257  258  [附和, 诱发]  [帮助, 陈述]     5\n",
            "      No      画目类型      画目序列  part\n",
            "258  259  [附和, 诱发]  [重述, 陈述]     5\n",
            "      No      画目类型      画目序列  part\n",
            "260  261  [附和, 诱发]  [反馈, 陈述]     5\n",
            "      No      画目类型      画目序列  part\n",
            "264  265  [附和, 诱发]  [反馈, 陈述]     6\n",
            "      No      画目类型          画目序列  part\n",
            "265  266  [附和, 诱发]  [评论, 提问, 补充]     6\n",
            "      No      画目类型      画目序列  part\n",
            "275  276  [附和, 诱发]  [反馈, 请求]     6\n",
            "      No      画目类型    画目序列  part\n",
            "283  284  [附和, 诱发]  [重复反馈]     6\n",
            "      No      画目类型      画目序列  part\n",
            "287  288  [附和, 诱发]  [反馈, 陈述]     6\n",
            "      No      画目类型      画目序列  part\n",
            "289  290  [附和, 诱发]  [重述, 陈述]     6\n",
            "      No      画目类型      画目序列  part\n",
            "290  291  [附和, 诱发]  [反馈, 陈述]     6\n",
            "附和在诱发前出现的次数[11, 18, 10, 8, 11, 10, 7]\n",
            "附和和诱发一共出现的次数[12, 18, 10, 8, 12, 10, 7]\n",
            "反馈出现的次数[5, 8, 6, 6, 7, 3, 5]\n",
            "还有其他:[0, 1, 0, 1, 2, 0, 0]\n",
            "所占比例[0.4166666666666667, 0.4444444444444444, 0.6, 0.75, 0.5833333333333334, 0.3, 0.7142857142857143]\n"
          ]
        }
      ]
    },
    {
      "cell_type": "code",
      "source": [
        " "
      ],
      "metadata": {
        "id": "MseNq3V50a42"
      },
      "execution_count": null,
      "outputs": []
    }
  ]
}